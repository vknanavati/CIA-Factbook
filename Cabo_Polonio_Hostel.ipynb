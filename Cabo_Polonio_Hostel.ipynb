{
 "cells": [
  {
   "cell_type": "code",
   "execution_count": 1,
   "metadata": {},
   "outputs": [
    {
     "data": {
      "text/html": [
       "<div>\n",
       "<style scoped>\n",
       "    .dataframe tbody tr th:only-of-type {\n",
       "        vertical-align: middle;\n",
       "    }\n",
       "\n",
       "    .dataframe tbody tr th {\n",
       "        vertical-align: top;\n",
       "    }\n",
       "\n",
       "    .dataframe thead th {\n",
       "        text-align: right;\n",
       "    }\n",
       "</style>\n",
       "<table border=\"1\" class=\"dataframe\">\n",
       "  <thead>\n",
       "    <tr style=\"text-align: right;\">\n",
       "      <th></th>\n",
       "      <th>Hostel Name</th>\n",
       "      <th>Price (USD)</th>\n",
       "      <th>Paraguayan Guarani</th>\n",
       "      <th>City Center Distance (km)</th>\n",
       "      <th>Rating</th>\n",
       "      <th>Total Reviews</th>\n",
       "    </tr>\n",
       "  </thead>\n",
       "  <tbody>\n",
       "    <tr>\n",
       "      <th>0</th>\n",
       "      <td>Lobo Hostel Bar</td>\n",
       "      <td>12.88</td>\n",
       "      <td>92239.41</td>\n",
       "      <td>1.18</td>\n",
       "      <td>8.9</td>\n",
       "      <td>297</td>\n",
       "    </tr>\n",
       "    <tr>\n",
       "      <th>1</th>\n",
       "      <td>Viejo Lobo</td>\n",
       "      <td>11.00</td>\n",
       "      <td>78775.89</td>\n",
       "      <td>1.33</td>\n",
       "      <td>8.8</td>\n",
       "      <td>317</td>\n",
       "    </tr>\n",
       "    <tr>\n",
       "      <th>2</th>\n",
       "      <td>Narakan</td>\n",
       "      <td>30.42</td>\n",
       "      <td>217851.16</td>\n",
       "      <td>1.22</td>\n",
       "      <td>8.6</td>\n",
       "      <td>63</td>\n",
       "    </tr>\n",
       "    <tr>\n",
       "      <th>3</th>\n",
       "      <td>Hostel El Bunker</td>\n",
       "      <td>20.00</td>\n",
       "      <td>143228.90</td>\n",
       "      <td>1.33</td>\n",
       "      <td>2.0</td>\n",
       "      <td>1</td>\n",
       "    </tr>\n",
       "  </tbody>\n",
       "</table>\n",
       "</div>"
      ],
      "text/plain": [
       "        Hostel Name  Price (USD)  Paraguayan Guarani  \\\n",
       "0   Lobo Hostel Bar        12.88            92239.41   \n",
       "1        Viejo Lobo        11.00            78775.89   \n",
       "2           Narakan        30.42           217851.16   \n",
       "3  Hostel El Bunker        20.00           143228.90   \n",
       "\n",
       "   City Center Distance (km)  Rating   Total Reviews  \n",
       "0                       1.18      8.9            297  \n",
       "1                       1.33      8.8            317  \n",
       "2                       1.22      8.6             63  \n",
       "3                       1.33      2.0              1  "
      ]
     },
     "execution_count": 1,
     "metadata": {},
     "output_type": "execute_result"
    }
   ],
   "source": [
    "import pandas as pd\n",
    "\n",
    "df = pd.read_csv('Cabo_Polonio_Data.csv')\n",
    "df.head()"
   ]
  },
  {
   "cell_type": "code",
   "execution_count": null,
   "metadata": {},
   "outputs": [],
   "source": [
    "\n"
   ]
  }
 ],
 "metadata": {
  "kernelspec": {
   "display_name": "snowflakes",
   "language": "python",
   "name": "python3"
  },
  "language_info": {
   "codemirror_mode": {
    "name": "ipython",
    "version": 3
   },
   "file_extension": ".py",
   "mimetype": "text/x-python",
   "name": "python",
   "nbconvert_exporter": "python",
   "pygments_lexer": "ipython3",
   "version": "3.10.6"
  },
  "orig_nbformat": 4
 },
 "nbformat": 4,
 "nbformat_minor": 2
}
